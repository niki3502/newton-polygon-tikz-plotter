{
 "cells": [
  {
   "cell_type": "markdown",
   "metadata": {},
   "source": [
    "## Создать текст для TikZ, чтобы рисовать многоугольник Ньютона"
   ]
  },
  {
   "cell_type": "code",
   "execution_count": 96,
   "metadata": {},
   "outputs": [],
   "source": [
    "#Здесь должны быть вершины многоугольника Ньютона, расположенные против часовой стрелки.\n",
    "points = [[1,1],[2,3],[4,4],[5,3],[4,1]]"
   ]
  },
  {
   "cell_type": "code",
   "execution_count": 97,
   "metadata": {},
   "outputs": [
    {
     "data": {
      "text/plain": [
       "[[1, 1], [2, 3], [4, 4], [5, 3], [4, 1], [1, 1]]"
      ]
     },
     "execution_count": 97,
     "metadata": {},
     "output_type": "execute_result"
    }
   ],
   "source": [
    "first_point = points[0]\n",
    "points.append(first_point)\n",
    "points"
   ]
  },
  {
   "cell_type": "raw",
   "metadata": {},
   "source": [
    "\\begin{center}\n",
    "\\begin{tikzpicture}[domain=0:2]\n",
    "\\draw[thick,color=gray,step= 1cm, dashed] (-0.5,-.5) grid (3,3);\n",
    "\\draw[->] (-1,0)-- (3.5,0) node[below right] {$x$};\n",
    "\\draw[->] (0,-1)-- (0,3.5) node[left] {$y$};\n",
    "\\draw (0,1)-- (0,2)-- (1,0)-- (0,1);\n",
    "\\fill[gray] (0,1)-- (0,2)-- (1,0)-- (0,1);\n",
    "\\end{tikzpicture}\n",
    "\\end{center}"
   ]
  },
  {
   "cell_type": "code",
   "execution_count": 98,
   "metadata": {},
   "outputs": [],
   "source": [
    "x_max = max([point[0] for point in points])\n",
    "y_max = max([point[1] for point in points])\n",
    "size  = max(x_max,y_max)"
   ]
  },
  {
   "cell_type": "code",
   "execution_count": 99,
   "metadata": {},
   "outputs": [],
   "source": [
    "def point_to_str(x):\n",
    "    return f\"({x[0]}, {x[1]})\""
   ]
  },
  {
   "cell_type": "code",
   "execution_count": 100,
   "metadata": {},
   "outputs": [],
   "source": [
    "tikz_string = \"\"\n",
    "\n",
    "tikz_string += r\"\\begin{center}\" + \"\\n\"\n",
    "\n",
    "tikz_string += r\"\\begin{tikzpicture}[domain=0:\" + str(size) + r\"]\" + \"\\n\"\n",
    "tikz_string += r\"\\draw[thick,color=gray,step= 1cm, dashed] (-0.5,-.5) grid\" + f\" ({size+1}, {size+1});\" + \"\\n\"\n",
    "\n",
    "tikz_string += r\"\\draw[->] (-1,0)-- \" + f\"({size+1.5},0)\" + r\" node[below right] {$x$};\" + \"\\n\"\n",
    "\n",
    "tikz_string += r\"\\draw[->] (0,-1)-- \" + f\"(0, {size+1.5})\" + r\" node[left] {$y$};\" + \"\\n\"\n",
    "\n",
    "tikz_string += \"\\draw \" + point_to_str(points[0]) + ''.join([f\"-- {point_to_str(x)}\" for x in points[1:]]) + \";\\n\"\n",
    "\n",
    "tikz_string += r\"\\fill[gray] \" + point_to_str(points[0]) + ''.join([f\"-- {point_to_str(x)}\" for x in points[1:]]) + \";\\n\"\n",
    "\n",
    "tikz_string += r\"\\end{tikzpicture}\" + \"\\n\"\n",
    "\n",
    "tikz_string += r\"\\end{center}\" + \"\\n\"\n"
   ]
  },
  {
   "cell_type": "code",
   "execution_count": 101,
   "metadata": {},
   "outputs": [
    {
     "name": "stdout",
     "output_type": "stream",
     "text": [
      "\\begin{center}\n",
      "\\begin{tikzpicture}[domain=0:5]\n",
      "\\draw[thick,color=gray,step= 1cm, dashed] (-0.5,-.5) grid (6, 6);\n",
      "\\draw[->] (-1,0)-- (6.5,0) node[below right] {$x$};\n",
      "\\draw[->] (0,-1)-- (0, 6.5) node[left] {$y$};\n",
      "\\draw (1, 1)-- (2, 3)-- (4, 4)-- (5, 3)-- (4, 1)-- (1, 1);\n",
      "\\fill[gray] (1, 1)-- (2, 3)-- (4, 4)-- (5, 3)-- (4, 1)-- (1, 1);\n",
      "\\end{tikzpicture}\n",
      "\\end{center}\n",
      "\n"
     ]
    }
   ],
   "source": [
    "print(tikz_string)"
   ]
  }
 ],
 "metadata": {
  "kernelspec": {
   "display_name": "Python 3 (ipykernel)",
   "language": "python",
   "name": "python3"
  },
  "language_info": {
   "codemirror_mode": {
    "name": "ipython",
    "version": 3
   },
   "file_extension": ".py",
   "mimetype": "text/x-python",
   "name": "python",
   "nbconvert_exporter": "python",
   "pygments_lexer": "ipython3",
   "version": "3.10.5"
  }
 },
 "nbformat": 4,
 "nbformat_minor": 4
}
